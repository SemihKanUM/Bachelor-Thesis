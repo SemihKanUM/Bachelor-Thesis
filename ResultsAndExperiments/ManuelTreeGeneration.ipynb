{
 "cells": [
  {
   "cell_type": "code",
   "execution_count": 1,
   "id": "6d4e033e",
   "metadata": {},
   "outputs": [
    {
     "name": "stdout",
     "output_type": "stream",
     "text": [
      "Collecting biopython\n",
      "  Downloading biopython-1.85-cp39-cp39-macosx_10_9_x86_64.whl (2.8 MB)\n",
      "\u001b[2K     \u001b[90m━━━━━━━━━━━━━━━━━━━━━━━━━━━━━━━━━━━━━━━━\u001b[0m \u001b[32m2.8/2.8 MB\u001b[0m \u001b[31m10.2 MB/s\u001b[0m eta \u001b[36m0:00:00\u001b[0m00:01\u001b[0m0:01\u001b[0m\n",
      "\u001b[?25hRequirement already satisfied: numpy in /Users/user/opt/anaconda3/lib/python3.9/site-packages (from biopython) (1.23.5)\n",
      "Installing collected packages: biopython\n",
      "Successfully installed biopython-1.85\n",
      "Note: you may need to restart the kernel to use updated packages.\n"
     ]
    }
   ],
   "source": [
    "pip install biopython"
   ]
  },
  {
   "cell_type": "code",
   "execution_count": 2,
   "id": "90e8d7f6",
   "metadata": {},
   "outputs": [
    {
     "name": "stdout",
     "output_type": "stream",
     "text": [
      "Collecting ete3\n",
      "  Downloading ete3-3.1.3.tar.gz (4.8 MB)\n",
      "\u001b[2K     \u001b[90m━━━━━━━━━━━━━━━━━━━━━━━━━━━━━━━━━━━━━━━━\u001b[0m \u001b[32m4.8/4.8 MB\u001b[0m \u001b[31m12.4 MB/s\u001b[0m eta \u001b[36m0:00:00\u001b[0m00:01\u001b[0m00:01\u001b[0m\n",
      "\u001b[?25h  Preparing metadata (setup.py) ... \u001b[?25ldone\n",
      "\u001b[?25hBuilding wheels for collected packages: ete3\n",
      "  Building wheel for ete3 (setup.py) ... \u001b[?25ldone\n",
      "\u001b[?25h  Created wheel for ete3: filename=ete3-3.1.3-py3-none-any.whl size=2273785 sha256=b20eb9fff84d8c0d4cd8a5adcec1a087ae189df43952f46ab3ed6f401cfa3753\n",
      "  Stored in directory: /Users/user/Library/Caches/pip/wheels/ad/2e/cc/edcca721b423e1604c84f480a1e8e0547a223bfc068d373259\n",
      "Successfully built ete3\n",
      "Installing collected packages: ete3\n",
      "Successfully installed ete3-3.1.3\n",
      "Note: you may need to restart the kernel to use updated packages.\n"
     ]
    }
   ],
   "source": [
    "pip install ete3\n"
   ]
  },
  {
   "cell_type": "code",
   "execution_count": 3,
   "id": "e150bba3",
   "metadata": {},
   "outputs": [
    {
     "name": "stdout",
     "output_type": "stream",
     "text": [
      "\n",
      "   /-human\n",
      "--|\n",
      "  |   /-chimp\n",
      "   \\-|\n",
      "     |   /-mouse\n",
      "      \\-|\n",
      "         \\-rat\n",
      "Node: human, Is leaf: True\n",
      "Node: chimp, Is leaf: True\n",
      "Node: mouse, Is leaf: True\n",
      "Node: rat, Is leaf: True\n",
      "Node: , Is leaf: False\n",
      "Node: , Is leaf: False\n",
      "Node: , Is leaf: False\n",
      "After collapsing common ancestor of chimp and human:\n",
      "\n",
      "   /-human\n",
      "--|\n",
      "  |   /-chimp\n",
      "   \\-|\n",
      "     |   /-mouse\n",
      "      \\-|\n",
      "         \\-rat\n"
     ]
    }
   ],
   "source": [
    "from ete3 import Tree\n",
    "\n",
    "# Create a simple unrooted binary tree\n",
    "newick_tree = \"(human, (chimp, (mouse, rat)));\"\n",
    "tree = Tree(newick_tree)\n",
    "\n",
    "# Visualize the tree\n",
    "print(tree)\n",
    "\n",
    "# Traverse the tree and print its structure\n",
    "for node in tree.traverse(\"postorder\"):\n",
    "    print(f\"Node: {node.name}, Is leaf: {node.is_leaf()}\")\n",
    "\n",
    "# Collapse a common cherry (e.g., chimp and human)\n",
    "tree.get_common_ancestor(\"chimp\", \"human\").delete()\n",
    "\n",
    "print(\"After collapsing common ancestor of chimp and human:\")\n",
    "print(tree)\n"
   ]
  },
  {
   "cell_type": "code",
   "execution_count": 5,
   "id": "d7b3184a",
   "metadata": {},
   "outputs": [
    {
     "ename": "TypeError",
     "evalue": "'_AxesStack' object is not callable",
     "output_type": "error",
     "traceback": [
      "\u001b[0;31m---------------------------------------------------------------------------\u001b[0m",
      "\u001b[0;31mTypeError\u001b[0m                                 Traceback (most recent call last)",
      "Cell \u001b[0;32mIn[5], line 15\u001b[0m\n\u001b[1;32m     13\u001b[0m \u001b[38;5;66;03m# Visualize the tree\u001b[39;00m\n\u001b[1;32m     14\u001b[0m pos \u001b[38;5;241m=\u001b[39m nx\u001b[38;5;241m.\u001b[39mspring_layout(tree)\n\u001b[0;32m---> 15\u001b[0m \u001b[43mnx\u001b[49m\u001b[38;5;241;43m.\u001b[39;49m\u001b[43mdraw\u001b[49m\u001b[43m(\u001b[49m\u001b[43mtree\u001b[49m\u001b[43m,\u001b[49m\u001b[43m \u001b[49m\u001b[43mpos\u001b[49m\u001b[43m,\u001b[49m\u001b[43m \u001b[49m\u001b[43mwith_labels\u001b[49m\u001b[38;5;241;43m=\u001b[39;49m\u001b[38;5;28;43;01mTrue\u001b[39;49;00m\u001b[43m,\u001b[49m\u001b[43m \u001b[49m\u001b[43mnode_size\u001b[49m\u001b[38;5;241;43m=\u001b[39;49m\u001b[38;5;241;43m500\u001b[39;49m\u001b[43m,\u001b[49m\u001b[43m \u001b[49m\u001b[43mnode_color\u001b[49m\u001b[38;5;241;43m=\u001b[39;49m\u001b[38;5;124;43m'\u001b[39;49m\u001b[38;5;124;43mlightblue\u001b[39;49m\u001b[38;5;124;43m'\u001b[39;49m\u001b[43m)\u001b[49m\n\u001b[1;32m     16\u001b[0m plt\u001b[38;5;241m.\u001b[39mshow()\n",
      "File \u001b[0;32m~/opt/anaconda3/lib/python3.9/site-packages/networkx/drawing/nx_pylab.py:113\u001b[0m, in \u001b[0;36mdraw\u001b[0;34m(G, pos, ax, **kwds)\u001b[0m\n\u001b[1;32m    111\u001b[0m cf\u001b[38;5;241m.\u001b[39mset_facecolor(\u001b[38;5;124m\"\u001b[39m\u001b[38;5;124mw\u001b[39m\u001b[38;5;124m\"\u001b[39m)\n\u001b[1;32m    112\u001b[0m \u001b[38;5;28;01mif\u001b[39;00m ax \u001b[38;5;129;01mis\u001b[39;00m \u001b[38;5;28;01mNone\u001b[39;00m:\n\u001b[0;32m--> 113\u001b[0m     \u001b[38;5;28;01mif\u001b[39;00m \u001b[43mcf\u001b[49m\u001b[38;5;241;43m.\u001b[39;49m\u001b[43m_axstack\u001b[49m\u001b[43m(\u001b[49m\u001b[43m)\u001b[49m \u001b[38;5;129;01mis\u001b[39;00m \u001b[38;5;28;01mNone\u001b[39;00m:\n\u001b[1;32m    114\u001b[0m         ax \u001b[38;5;241m=\u001b[39m cf\u001b[38;5;241m.\u001b[39madd_axes((\u001b[38;5;241m0\u001b[39m, \u001b[38;5;241m0\u001b[39m, \u001b[38;5;241m1\u001b[39m, \u001b[38;5;241m1\u001b[39m))\n\u001b[1;32m    115\u001b[0m     \u001b[38;5;28;01melse\u001b[39;00m:\n",
      "\u001b[0;31mTypeError\u001b[0m: '_AxesStack' object is not callable"
     ]
    },
    {
     "data": {
      "text/plain": [
       "<Figure size 640x480 with 0 Axes>"
      ]
     },
     "metadata": {},
     "output_type": "display_data"
    }
   ],
   "source": [
    "import networkx as nx\n",
    "import matplotlib.pyplot as plt\n",
    "\n",
    "# Create a phylogenetic tree using an undirected graph\n",
    "tree = nx.Graph()\n",
    "\n",
    "# Add nodes (species) and edges (relationships)\n",
    "tree.add_edges_from([\n",
    "    (\"root\", \"A\"), (\"A\", \"B\"), (\"A\", \"C\"),\n",
    "    (\"C\", \"D\"), (\"C\", \"E\")\n",
    "])\n",
    "\n",
    "# Visualize the tree\n",
    "pos = nx.spring_layout(tree)\n",
    "nx.draw(tree, pos, with_labels=True, node_size=500, node_color='lightblue')\n",
    "plt.show()\n"
   ]
  },
  {
   "cell_type": "code",
   "execution_count": 7,
   "id": "f9d0e183",
   "metadata": {},
   "outputs": [
    {
     "name": "stdout",
     "output_type": "stream",
     "text": [
      "Common cherries: set()\n",
      "Computed MAF size: 4\n"
     ]
    }
   ],
   "source": [
    "def compute_maf(tree1, tree2):\n",
    "    \"\"\"\n",
    "    Basic conceptual approach for MAF simulation\n",
    "    :param tree1: Phylogenetic tree 1 (using NetworkX or ETE)\n",
    "    :param tree2: Phylogenetic tree 2\n",
    "    :return: Number of components in the Maximum Agreement Forest\n",
    "    \"\"\"\n",
    "    # Step 1: Identify cherries in both trees\n",
    "    def find_cherries(tree):\n",
    "        cherries = []\n",
    "        for node in tree.nodes:\n",
    "            neighbors = list(tree.neighbors(node))\n",
    "            if len(neighbors) == 2 and all(tree.degree(n) == 1 for n in neighbors):\n",
    "                cherries.append(neighbors)\n",
    "        return cherries\n",
    "\n",
    "    cherries1 = find_cherries(tree1)\n",
    "    cherries2 = find_cherries(tree2)\n",
    "\n",
    "    # Step 2: Collapse common cherries\n",
    "    common_cherries = set(tuple(sorted(c)) for c in cherries1) & set(tuple(sorted(c)) for c in cherries2)\n",
    "    print(f\"Common cherries: {common_cherries}\")\n",
    "\n",
    "    # Step 3: Count remaining components as MAF size\n",
    "    remaining_components = len(tree1.nodes) - len(common_cherries)\n",
    "    return remaining_components\n",
    "\n",
    "\n",
    "# Example simulation using NetworkX trees\n",
    "tree1 = nx.Graph()\n",
    "tree1.add_edges_from([(\"A\", \"B\"), (\"B\", \"C\"), (\"B\", \"D\")])\n",
    "tree2 = nx.Graph()\n",
    "tree2.add_edges_from([(\"A\", \"B\"), (\"B\", \"C\"), (\"B\", \"E\")])\n",
    "\n",
    "maf_size = compute_maf(tree1, tree2)\n",
    "print(f\"Computed MAF size: {maf_size}\")\n"
   ]
  },
  {
   "cell_type": "code",
   "execution_count": 8,
   "id": "250fda42",
   "metadata": {},
   "outputs": [
    {
     "name": "stdout",
     "output_type": "stream",
     "text": [
      "                                        _____________________________________ A\n",
      "  _____________________________________|\n",
      " |                                     |_____________________________________ B\n",
      "_|\n",
      " |                                      _____________________________________ C\n",
      " |_____________________________________|\n",
      "                                       |_____________________________________ D\n",
      "\n",
      "Cherry found: A, B\n",
      "Cherry found: C, D\n"
     ]
    }
   ],
   "source": [
    "from Bio import Phylo\n",
    "from io import StringIO\n",
    "\n",
    "# Define a simple rooted Newick tree\n",
    "tree_data = \"((A,B),(C,D));\"  # This is a simple rooted tree with cherries {A, B} and {C, D}\n",
    "tree = Phylo.read(StringIO(tree_data), \"newick\")\n",
    "\n",
    "# Visualize the tree structure\n",
    "Phylo.draw_ascii(tree)\n",
    "\n",
    "# Access nodes and check for cherries\n",
    "for clade in tree.get_nonterminals():\n",
    "    children = clade.clades\n",
    "    if len(children) == 2 and all(child.is_terminal() for child in children):\n",
    "        print(f\"Cherry found: {children[0].name}, {children[1].name}\")\n"
   ]
  },
  {
   "cell_type": "code",
   "execution_count": 9,
   "id": "53ee9c9f",
   "metadata": {},
   "outputs": [
    {
     "ename": "NetworkXNoPath",
     "evalue": "No path between A and B.",
     "output_type": "error",
     "traceback": [
      "\u001b[0;31m---------------------------------------------------------------------------\u001b[0m",
      "\u001b[0;31mNetworkXNoPath\u001b[0m                            Traceback (most recent call last)",
      "Cell \u001b[0;32mIn[9], line 26\u001b[0m\n\u001b[1;32m     20\u001b[0m tree_graph\u001b[38;5;241m.\u001b[39madd_edges_from([\n\u001b[1;32m     21\u001b[0m     (\u001b[38;5;124m\"\u001b[39m\u001b[38;5;124mroot\u001b[39m\u001b[38;5;124m\"\u001b[39m, \u001b[38;5;124m\"\u001b[39m\u001b[38;5;124mA\u001b[39m\u001b[38;5;124m\"\u001b[39m), (\u001b[38;5;124m\"\u001b[39m\u001b[38;5;124mroot\u001b[39m\u001b[38;5;124m\"\u001b[39m, \u001b[38;5;124m\"\u001b[39m\u001b[38;5;124mB\u001b[39m\u001b[38;5;124m\"\u001b[39m),\n\u001b[1;32m     22\u001b[0m     (\u001b[38;5;124m\"\u001b[39m\u001b[38;5;124mroot\u001b[39m\u001b[38;5;124m\"\u001b[39m, \u001b[38;5;124m\"\u001b[39m\u001b[38;5;124mC\u001b[39m\u001b[38;5;124m\"\u001b[39m), (\u001b[38;5;124m\"\u001b[39m\u001b[38;5;124mC\u001b[39m\u001b[38;5;124m\"\u001b[39m, \u001b[38;5;124m\"\u001b[39m\u001b[38;5;124mD\u001b[39m\u001b[38;5;124m\"\u001b[39m), (\u001b[38;5;124m\"\u001b[39m\u001b[38;5;124mC\u001b[39m\u001b[38;5;124m\"\u001b[39m, \u001b[38;5;124m\"\u001b[39m\u001b[38;5;124mE\u001b[39m\u001b[38;5;124m\"\u001b[39m)\n\u001b[1;32m     23\u001b[0m ])\n\u001b[1;32m     25\u001b[0m \u001b[38;5;66;03m# Test with a cherry\u001b[39;00m\n\u001b[0;32m---> 26\u001b[0m \u001b[43mwidden_branch\u001b[49m\u001b[43m(\u001b[49m\u001b[43mtree_graph\u001b[49m\u001b[43m,\u001b[49m\u001b[43m \u001b[49m\u001b[43m(\u001b[49m\u001b[38;5;124;43m\"\u001b[39;49m\u001b[38;5;124;43mA\u001b[39;49m\u001b[38;5;124;43m\"\u001b[39;49m\u001b[43m,\u001b[49m\u001b[43m \u001b[49m\u001b[38;5;124;43m\"\u001b[39;49m\u001b[38;5;124;43mB\u001b[39;49m\u001b[38;5;124;43m\"\u001b[39;49m\u001b[43m)\u001b[49m\u001b[43m)\u001b[49m\n",
      "Cell \u001b[0;32mIn[9], line 10\u001b[0m, in \u001b[0;36mwidden_branch\u001b[0;34m(tree_graph, cherry)\u001b[0m\n\u001b[1;32m      4\u001b[0m \u001b[38;5;124;03m\"\"\"\u001b[39;00m\n\u001b[1;32m      5\u001b[0m \u001b[38;5;124;03mSimulate Whidden's branching for a cherry in a rooted tree.\u001b[39;00m\n\u001b[1;32m      6\u001b[0m \u001b[38;5;124;03m:param tree_graph: Graph representation of a rooted tree\u001b[39;00m\n\u001b[1;32m      7\u001b[0m \u001b[38;5;124;03m:param cherry: Tuple (a, b) representing a cherry\u001b[39;00m\n\u001b[1;32m      8\u001b[0m \u001b[38;5;124;03m\"\"\"\u001b[39;00m\n\u001b[1;32m      9\u001b[0m a, b \u001b[38;5;241m=\u001b[39m cherry\n\u001b[0;32m---> 10\u001b[0m path_edges \u001b[38;5;241m=\u001b[39m \u001b[38;5;28mlist\u001b[39m(\u001b[43mnx\u001b[49m\u001b[38;5;241;43m.\u001b[39;49m\u001b[43mshortest_path\u001b[49m\u001b[43m(\u001b[49m\u001b[43mtree_graph\u001b[49m\u001b[43m,\u001b[49m\u001b[43m \u001b[49m\u001b[43ma\u001b[49m\u001b[43m,\u001b[49m\u001b[43m \u001b[49m\u001b[43mb\u001b[49m\u001b[43m)\u001b[49m)[:\u001b[38;5;241m-\u001b[39m\u001b[38;5;241m1\u001b[39m]\n\u001b[1;32m     11\u001b[0m \u001b[38;5;28mprint\u001b[39m(\u001b[38;5;124mf\u001b[39m\u001b[38;5;124m\"\u001b[39m\u001b[38;5;124mPath between \u001b[39m\u001b[38;5;132;01m{\u001b[39;00ma\u001b[38;5;132;01m}\u001b[39;00m\u001b[38;5;124m and \u001b[39m\u001b[38;5;132;01m{\u001b[39;00mb\u001b[38;5;132;01m}\u001b[39;00m\u001b[38;5;124m: \u001b[39m\u001b[38;5;132;01m{\u001b[39;00mpath_edges\u001b[38;5;132;01m}\u001b[39;00m\u001b[38;5;124m\"\u001b[39m)\n\u001b[1;32m     13\u001b[0m \u001b[38;5;66;03m# Three branching choices\u001b[39;00m\n",
      "File \u001b[0;32m~/opt/anaconda3/lib/python3.9/site-packages/networkx/algorithms/shortest_paths/generic.py:165\u001b[0m, in \u001b[0;36mshortest_path\u001b[0;34m(G, source, target, weight, method)\u001b[0m\n\u001b[1;32m    162\u001b[0m \u001b[38;5;28;01melse\u001b[39;00m:\n\u001b[1;32m    163\u001b[0m     \u001b[38;5;66;03m# Find shortest source-target path.\u001b[39;00m\n\u001b[1;32m    164\u001b[0m     \u001b[38;5;28;01mif\u001b[39;00m method \u001b[38;5;241m==\u001b[39m \u001b[38;5;124m\"\u001b[39m\u001b[38;5;124munweighted\u001b[39m\u001b[38;5;124m\"\u001b[39m:\n\u001b[0;32m--> 165\u001b[0m         paths \u001b[38;5;241m=\u001b[39m \u001b[43mnx\u001b[49m\u001b[38;5;241;43m.\u001b[39;49m\u001b[43mbidirectional_shortest_path\u001b[49m\u001b[43m(\u001b[49m\u001b[43mG\u001b[49m\u001b[43m,\u001b[49m\u001b[43m \u001b[49m\u001b[43msource\u001b[49m\u001b[43m,\u001b[49m\u001b[43m \u001b[49m\u001b[43mtarget\u001b[49m\u001b[43m)\u001b[49m\n\u001b[1;32m    166\u001b[0m     \u001b[38;5;28;01melif\u001b[39;00m method \u001b[38;5;241m==\u001b[39m \u001b[38;5;124m\"\u001b[39m\u001b[38;5;124mdijkstra\u001b[39m\u001b[38;5;124m\"\u001b[39m:\n\u001b[1;32m    167\u001b[0m         _, paths \u001b[38;5;241m=\u001b[39m nx\u001b[38;5;241m.\u001b[39mbidirectional_dijkstra(G, source, target, weight)\n",
      "File \u001b[0;32m~/opt/anaconda3/lib/python3.9/site-packages/networkx/algorithms/shortest_paths/unweighted.py:224\u001b[0m, in \u001b[0;36mbidirectional_shortest_path\u001b[0;34m(G, source, target)\u001b[0m\n\u001b[1;32m    221\u001b[0m     \u001b[38;5;28;01mraise\u001b[39;00m nx\u001b[38;5;241m.\u001b[39mNodeNotFound(msg)\n\u001b[1;32m    223\u001b[0m \u001b[38;5;66;03m# call helper to do the real work\u001b[39;00m\n\u001b[0;32m--> 224\u001b[0m results \u001b[38;5;241m=\u001b[39m \u001b[43m_bidirectional_pred_succ\u001b[49m\u001b[43m(\u001b[49m\u001b[43mG\u001b[49m\u001b[43m,\u001b[49m\u001b[43m \u001b[49m\u001b[43msource\u001b[49m\u001b[43m,\u001b[49m\u001b[43m \u001b[49m\u001b[43mtarget\u001b[49m\u001b[43m)\u001b[49m\n\u001b[1;32m    225\u001b[0m pred, succ, w \u001b[38;5;241m=\u001b[39m results\n\u001b[1;32m    227\u001b[0m \u001b[38;5;66;03m# build path from pred+w+succ\u001b[39;00m\n",
      "File \u001b[0;32m~/opt/anaconda3/lib/python3.9/site-packages/networkx/algorithms/shortest_paths/unweighted.py:292\u001b[0m, in \u001b[0;36m_bidirectional_pred_succ\u001b[0;34m(G, source, target)\u001b[0m\n\u001b[1;32m    289\u001b[0m                 \u001b[38;5;28;01mif\u001b[39;00m w \u001b[38;5;129;01min\u001b[39;00m pred:  \u001b[38;5;66;03m# found path\u001b[39;00m\n\u001b[1;32m    290\u001b[0m                     \u001b[38;5;28;01mreturn\u001b[39;00m pred, succ, w\n\u001b[0;32m--> 292\u001b[0m \u001b[38;5;28;01mraise\u001b[39;00m nx\u001b[38;5;241m.\u001b[39mNetworkXNoPath(\u001b[38;5;124mf\u001b[39m\u001b[38;5;124m\"\u001b[39m\u001b[38;5;124mNo path between \u001b[39m\u001b[38;5;132;01m{\u001b[39;00msource\u001b[38;5;132;01m}\u001b[39;00m\u001b[38;5;124m and \u001b[39m\u001b[38;5;132;01m{\u001b[39;00mtarget\u001b[38;5;132;01m}\u001b[39;00m\u001b[38;5;124m.\u001b[39m\u001b[38;5;124m\"\u001b[39m)\n",
      "\u001b[0;31mNetworkXNoPath\u001b[0m: No path between A and B."
     ]
    }
   ],
   "source": [
    "import networkx as nx\n",
    "\n",
    "def widden_branch(tree_graph, cherry):\n",
    "    \"\"\"\n",
    "    Simulate Whidden's branching for a cherry in a rooted tree.\n",
    "    :param tree_graph: Graph representation of a rooted tree\n",
    "    :param cherry: Tuple (a, b) representing a cherry\n",
    "    \"\"\"\n",
    "    a, b = cherry\n",
    "    path_edges = list(nx.shortest_path(tree_graph, a, b))[:-1]\n",
    "    print(f\"Path between {a} and {b}: {path_edges}\")\n",
    "\n",
    "    # Three branching choices\n",
    "    print(\"Branch 1: Cut off a\")\n",
    "    print(\"Branch 2: Cut off b\")\n",
    "    print(f\"Branch 3: Cut all but one of the path edges ({path_edges[1:]})\")\n",
    "\n",
    "# Example tree as a graph\n",
    "tree_graph = nx.DiGraph()\n",
    "tree_graph.add_edges_from([\n",
    "    (\"root\", \"A\"), (\"root\", \"B\"),\n",
    "    (\"root\", \"C\"), (\"C\", \"D\"), (\"C\", \"E\")\n",
    "])\n",
    "\n",
    "# Test with a cherry\n",
    "widden_branch(tree_graph, (\"A\", \"B\"))\n"
   ]
  },
  {
   "cell_type": "code",
   "execution_count": null,
   "id": "5eb5e4da",
   "metadata": {},
   "outputs": [],
   "source": []
  }
 ],
 "metadata": {
  "kernelspec": {
   "display_name": "Python 3 (ipykernel)",
   "language": "python",
   "name": "python3"
  },
  "language_info": {
   "codemirror_mode": {
    "name": "ipython",
    "version": 3
   },
   "file_extension": ".py",
   "mimetype": "text/x-python",
   "name": "python",
   "nbconvert_exporter": "python",
   "pygments_lexer": "ipython3",
   "version": "3.9.13"
  }
 },
 "nbformat": 4,
 "nbformat_minor": 5
}
